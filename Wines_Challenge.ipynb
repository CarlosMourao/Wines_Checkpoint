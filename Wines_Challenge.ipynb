{
 "cells": [
  {
   "cell_type": "markdown",
   "metadata": {},
   "source": [
    "# Wine market study\n",
    "\n",
    "The client, Domaine des Croix, is looking to define the price of its wine bottles for the US market. They have retrieved a set of 130k bottles of wine, with grape varieties, countries and regions of production, vintages (i.e. years of production), as well as notes (\"points\") and descriptions from oenologists (wine specialists), and the price of all these bottles on the American market.\n",
    "\n",
    "**The objective will be to make a presentation of the market analysis and the price you recommend for the client's wines.** The client is not a data analyst, but would like to understand the process. You will have to explain how the prices were set, without getting too technical, in other words: make it easy to understand.\n",
    "\n",
    "You will find below some frames to guide you in this analysis. First, do the common framework. Then, you can follow one of these frames (Machine Learning or Business Intelligence). **Don't try to do both frames! To choose is to give up. The client prefers qualitative work to exhaustive work.**\n",
    "But you can also go in other directions to answer the client's problem. If you have good ideas to propose to the client, they are obviously welcome. You're the data analyst now. \n",
    "\n",
    "\n",
    "\n",
    "\n",
    "# Data sets\n",
    "- Dataset of 130k wines: https://github.com/murpi/wilddata/raw/master/wine.zip\n",
    "- Dataset of the 14 Domaine des Croix wines: https://github.com/murpi/wilddata/raw/master/domaine_des_croix.csv\n",
    "\n",
    "\n",
    "# Expected deliverables\n",
    "The client would like an 8 minute presentation followed by 7 minutes of questions. \n",
    "The presentation will contain at least these elements:\n",
    "- Reminder of the context and the problem\n",
    "- Exploratory analysis of the data\n",
    "- Methodology, tools and languages used\n",
    "- Presentation of the technical part and the code created for this analysis\n",
    "- Answer to the business question: price proposal or price range to the client to be correctly positioned against the competition on the American market"
   ]
  },
  {
   "cell_type": "markdown",
   "metadata": {},
   "source": [
    "+ Link to the Tableau Presentation: https://public.tableau.com/app/profile/carlos.filipe.gon.alves.mour.o/viz/PriceWineRecommendationforUSMarket/Story1#1"
   ]
  },
  {
   "cell_type": "code",
   "execution_count": 1,
   "metadata": {},
   "outputs": [],
   "source": [
    "import pandas as pd\n",
    "import numpy as np\n",
    "\n",
    "link = \"https://github.com/murpi/wilddata/raw/master/wine.zip\"\n",
    "link_croix = 'https://github.com/murpi/wilddata/raw/master/domaine_des_croix.csv'\n",
    "df = pd.read_csv(link)"
   ]
  },
  {
   "cell_type": "code",
   "execution_count": null,
   "metadata": {},
   "outputs": [],
   "source": [
    "df.head()"
   ]
  },
  {
   "cell_type": "code",
   "execution_count": null,
   "metadata": {},
   "outputs": [],
   "source": [
    "df.info()"
   ]
  },
  {
   "cell_type": "code",
   "execution_count": 3,
   "metadata": {},
   "outputs": [
    {
     "data": {
      "text/html": [
       "<div>\n",
       "<style scoped>\n",
       "    .dataframe tbody tr th:only-of-type {\n",
       "        vertical-align: middle;\n",
       "    }\n",
       "\n",
       "    .dataframe tbody tr th {\n",
       "        vertical-align: top;\n",
       "    }\n",
       "\n",
       "    .dataframe thead th {\n",
       "        text-align: right;\n",
       "    }\n",
       "</style>\n",
       "<table border=\"1\" class=\"dataframe\">\n",
       "  <thead>\n",
       "    <tr style=\"text-align: right;\">\n",
       "      <th></th>\n",
       "      <th>points</th>\n",
       "      <th>price</th>\n",
       "    </tr>\n",
       "  </thead>\n",
       "  <tbody>\n",
       "    <tr>\n",
       "      <th>count</th>\n",
       "      <td>129957.000000</td>\n",
       "      <td>120964.000000</td>\n",
       "    </tr>\n",
       "    <tr>\n",
       "      <th>mean</th>\n",
       "      <td>88.446655</td>\n",
       "      <td>35.358363</td>\n",
       "    </tr>\n",
       "    <tr>\n",
       "      <th>std</th>\n",
       "      <td>3.039481</td>\n",
       "      <td>41.018605</td>\n",
       "    </tr>\n",
       "    <tr>\n",
       "      <th>min</th>\n",
       "      <td>80.000000</td>\n",
       "      <td>4.000000</td>\n",
       "    </tr>\n",
       "    <tr>\n",
       "      <th>25%</th>\n",
       "      <td>86.000000</td>\n",
       "      <td>17.000000</td>\n",
       "    </tr>\n",
       "    <tr>\n",
       "      <th>50%</th>\n",
       "      <td>88.000000</td>\n",
       "      <td>25.000000</td>\n",
       "    </tr>\n",
       "    <tr>\n",
       "      <th>75%</th>\n",
       "      <td>91.000000</td>\n",
       "      <td>42.000000</td>\n",
       "    </tr>\n",
       "    <tr>\n",
       "      <th>max</th>\n",
       "      <td>100.000000</td>\n",
       "      <td>3300.000000</td>\n",
       "    </tr>\n",
       "  </tbody>\n",
       "</table>\n",
       "</div>"
      ],
      "text/plain": [
       "              points          price\n",
       "count  129957.000000  120964.000000\n",
       "mean       88.446655      35.358363\n",
       "std         3.039481      41.018605\n",
       "min        80.000000       4.000000\n",
       "25%        86.000000      17.000000\n",
       "50%        88.000000      25.000000\n",
       "75%        91.000000      42.000000\n",
       "max       100.000000    3300.000000"
      ]
     },
     "execution_count": 3,
     "metadata": {},
     "output_type": "execute_result"
    }
   ],
   "source": [
    "df.describe()"
   ]
  },
  {
   "cell_type": "markdown",
   "metadata": {},
   "source": [
    "##Start tokenization process to get:\n",
    "+ date from 'title';\n",
    "+ WordCloud from 'description'"
   ]
  },
  {
   "cell_type": "code",
   "execution_count": null,
   "metadata": {},
   "outputs": [],
   "source": [
    "# tokenize column 'title' to get the year number and create new column with year #\n",
    "import nltk\n",
    "nltk.download('popular') #download the popular package because the most common libraries to do the process of tokenization\n",
    "from nltk.tokenize import word_tokenize"
   ]
  },
  {
   "cell_type": "markdown",
   "metadata": {},
   "source": [
    "## function to tokenize: \n",
    "+ def func_clean(x):"
   ]
  },
  {
   "cell_type": "code",
   "execution_count": null,
   "metadata": {},
   "outputs": [],
   "source": [
    "### def function to tokenize and to remove stopwords/punctuation from some columns ###\n",
    "\n",
    "from string import punctuation #import punctuation to use in the function\n",
    "\n",
    "def func_clean(x):\n",
    "  stopwords = nltk.corpus.stopwords.words('english') #variable stopwords to remove useless words, to use in the function\n",
    "  # punctuation = list(punctuation) #variable punctuation to remove punctuation, to use in function BUT in this def function \n",
    "                                    #it can be comment but need to be uncomment if use without def function  \n",
    "  x_words = nltk.word_tokenize(x.lower()) #tokenize to get words only and lower them all so it will be able to remove stopwords in Capital letter \n",
    "  cleaned_tokens = [token for token in x_words if token not in stopwords\n",
    "                  and token not in punctuation]# new variable with function where it will be removed stopwords and punctuation (need to be IMPORT)\n",
    "  return ' '.join(cleaned_tokens) # the function ' '.join() is to return a STR and not list"
   ]
  },
  {
   "cell_type": "code",
   "execution_count": null,
   "metadata": {},
   "outputs": [],
   "source": [
    "# apply the def func_clean() to the column 'title'\n",
    "\n",
    "df['title_clean'] = df['title'].apply(func_clean)"
   ]
  },
  {
   "cell_type": "code",
   "execution_count": null,
   "metadata": {},
   "outputs": [],
   "source": [
    "#confirmation of the new column and tokenization worked \n",
    "\n",
    "df.head()"
   ]
  },
  {
   "cell_type": "code",
   "execution_count": null,
   "metadata": {},
   "outputs": [],
   "source": [
    "# using regex method to get the year from the title_clean column\n",
    "\n",
    "import re\n",
    "\n",
    "df['year_list'] = df['title_clean'].str.findall(r'\\b[2]+[0]+[0-9]+[0-9]|\\b[1]+[9]+[0-9]+[0-9]')\n",
    "df.head()"
   ]
  },
  {
   "cell_type": "code",
   "execution_count": null,
   "metadata": {},
   "outputs": [],
   "source": [
    "### confirmation of some rows had 2 dates on it ###\n",
    "\n",
    "df['year_list'].value_counts()"
   ]
  },
  {
   "cell_type": "markdown",
   "metadata": {},
   "source": [
    "## function to get the max date: \n",
    "+ def last(x):"
   ]
  },
  {
   "cell_type": "code",
   "execution_count": null,
   "metadata": {},
   "outputs": [],
   "source": [
    "#creation function to get the max value/date from the list because there some lists with 2 dates on it#\n",
    "\n",
    "def last(x):\n",
    "  for number in x:\n",
    "    return max(x)\n",
    "\n",
    "df['year_final'] = df['year_list'].apply(last)"
   ]
  },
  {
   "cell_type": "code",
   "execution_count": null,
   "metadata": {},
   "outputs": [],
   "source": [
    "# confirmation the dates now are correct and % of dates\n",
    "\n",
    "df['year_final'].value_counts(dropna = False,\n",
    "                              normalize = True)*100"
   ]
  },
  {
   "cell_type": "markdown",
   "metadata": {},
   "source": [
    "## DF to get the oldest/newest wine date"
   ]
  },
  {
   "cell_type": "code",
   "execution_count": null,
   "metadata": {},
   "outputs": [],
   "source": [
    "## removing 0 from \"year_final\" column\n",
    "\n",
    "df_old_new_wines = df"
   ]
  },
  {
   "cell_type": "code",
   "execution_count": null,
   "metadata": {},
   "outputs": [],
   "source": [
    "#Transform year_final in int from str\n",
    "\n",
    "df_old_new_wines['year_final'] = pd.to_numeric(df_old_new_wines['year_final']) #.convert_dtypes(convert_integer = True)\n",
    "df_old_new_wines['year_final'] = df_old_new_wines['year_final'].replace(np.nan, 0, regex=True) #NaN need to be replaced by 0 in order to transform in numeric all column\n",
    "df_old_new_wines['year_final'] = df_old_new_wines['year_final'].astype(int)\n",
    "df_old_new_wines.info()"
   ]
  },
  {
   "cell_type": "code",
   "execution_count": null,
   "metadata": {},
   "outputs": [],
   "source": [
    "df_old_new_wines = df_old_new_wines[df_old_new_wines['year_final'] != 0]"
   ]
  },
  {
   "cell_type": "code",
   "execution_count": null,
   "metadata": {},
   "outputs": [],
   "source": [
    "# confirmation of % of years and 0 was removed\n",
    "\n",
    "df_old_new_wines['year_final'].value_counts(dropna = False,\n",
    "                              normalize = True)*100"
   ]
  },
  {
   "cell_type": "code",
   "execution_count": null,
   "metadata": {},
   "outputs": [],
   "source": [
    "# get the oldest/newest wine date\n",
    "\n",
    "print('Newest wine year = ',df_old_new_wines['year_final'].max())\n",
    "print('Oldest wine year = ',df_old_new_wines['year_final'].min())"
   ]
  },
  {
   "cell_type": "markdown",
   "metadata": {},
   "source": [
    "##Check the best/worst wine by price/score"
   ]
  },
  {
   "cell_type": "code",
   "execution_count": null,
   "metadata": {},
   "outputs": [],
   "source": [
    "## to check the wine with best/worst score and prices\n",
    "df.sort_values(by=['points', 'price'],\n",
    "                       ascending = False)"
   ]
  },
  {
   "cell_type": "code",
   "execution_count": null,
   "metadata": {},
   "outputs": [],
   "source": [
    "# remove title_clean and year_list from the df\n",
    "\n",
    "df.drop(columns = ['title_clean', 'year_list'],\n",
    "        inplace = True)\n",
    "\n",
    "df.head()"
   ]
  },
  {
   "cell_type": "code",
   "execution_count": null,
   "metadata": {},
   "outputs": [],
   "source": [
    "# get a value counts from country just to have an idea of the % of countries represent on the wines #\n",
    "df['country'].value_counts(normalize = True, dropna = False)*100"
   ]
  },
  {
   "cell_type": "markdown",
   "metadata": {},
   "source": [
    "## Correlation analyse"
   ]
  },
  {
   "cell_type": "code",
   "execution_count": null,
   "metadata": {},
   "outputs": [],
   "source": [
    "# did pairplot and heatmap just to understand if there is correlation between Points(score) and Price\n",
    "\n",
    "import seaborn as sns\n",
    "import matplotlib.pyplot as plt\n",
    "\n",
    "sns.heatmap(df.corr(),\n",
    "            annot = True)"
   ]
  },
  {
   "cell_type": "code",
   "execution_count": null,
   "metadata": {},
   "outputs": [],
   "source": [
    "sns.pairplot(df)"
   ]
  },
  {
   "cell_type": "markdown",
   "metadata": {},
   "source": [
    "#Filter code Template"
   ]
  },
  {
   "cell_type": "code",
   "execution_count": null,
   "metadata": {},
   "outputs": [],
   "source": [
    "# just to check columns if needed\n",
    "\n",
    "df.columns"
   ]
  },
  {
   "cell_type": "code",
   "execution_count": null,
   "metadata": {},
   "outputs": [],
   "source": [
    "# this code is just to filtrate some extra information I need to see quick\n",
    "df[df['price'] == 3300]"
   ]
  },
  {
   "cell_type": "markdown",
   "metadata": {},
   "source": [
    "##Download US Wines to use on Tableau"
   ]
  },
  {
   "cell_type": "code",
   "execution_count": null,
   "metadata": {},
   "outputs": [],
   "source": [
    "### download of table dates to use in Tableau ###\n",
    "\n",
    "# from openpyxl import load_workbook\n",
    "\n",
    "# df.to_excel(r'/content/drive/MyDrive/Checkpoint Exams/Wine_with_index.xlsx')#, index = False)"
   ]
  },
  {
   "cell_type": "markdown",
   "metadata": {},
   "source": [
    "##Download Burgundy dataset"
   ]
  },
  {
   "cell_type": "code",
   "execution_count": null,
   "metadata": {},
   "outputs": [],
   "source": [
    "# create of new dataset to use on WordCloud\n",
    "\n",
    "df_burgundy = df[df['province'] == 'Burgundy']\n",
    "df_burgundy"
   ]
  },
  {
   "cell_type": "code",
   "execution_count": null,
   "metadata": {},
   "outputs": [],
   "source": [
    "### download of table dates to use in Tableau ###\n",
    "\n",
    "# from openpyxl import load_workbook\n",
    "\n",
    "# df_burgundy.to_excel(r'/content/drivport load_we/MyDrive/Checkpoint Exams/Wine_Burgundy_index.xlsx')#, index = False)"
   ]
  },
  {
   "cell_type": "markdown",
   "metadata": {},
   "source": [
    "##Download Pinot variety Wines"
   ]
  },
  {
   "cell_type": "code",
   "execution_count": null,
   "metadata": {},
   "outputs": [],
   "source": [
    "# check how many variety of wines exist\n",
    "\n",
    "df['variety'].value_counts(dropna = False)"
   ]
  },
  {
   "cell_type": "code",
   "execution_count": null,
   "metadata": {},
   "outputs": [],
   "source": [
    "# looking for others Pinot Noir in the df\n",
    "\n",
    "df_pinot = df[df['variety'].str.contains('inot') == True]\n",
    "df_pinot['variety'].value_counts()"
   ]
  },
  {
   "cell_type": "code",
   "execution_count": null,
   "metadata": {},
   "outputs": [],
   "source": [
    "## confirm which variety is most common on province 'Burgundy'\n",
    "\n",
    "df_pinot[(df_pinot['province'] == 'Burgundy')].groupby('variety').agg({'variety':'count'})"
   ]
  },
  {
   "cell_type": "code",
   "execution_count": null,
   "metadata": {},
   "outputs": [],
   "source": [
    "### download of table dates to use in Tableau ###\n",
    "\n",
    "# from openpyxl import load_workbook\n",
    "\n",
    "# df_pinot.to_excel(r'/content/drive/MyDrive/Checkpoint Exams/Wine_Pinot.xlsx')#, index = False)"
   ]
  },
  {
   "cell_type": "code",
   "execution_count": null,
   "metadata": {},
   "outputs": [],
   "source": [
    "# new dataset with only Pinot Noir variety to use on WordCloud and work in Tableau if needed\n",
    "\n",
    "df_pinot_noir = df[(df['variety'] == 'Pinot Noir') | (df['variety'] == 'Chardonnay')]\n",
    "\n",
    "df_pinot_noir.variety.value_counts()"
   ]
  },
  {
   "cell_type": "code",
   "execution_count": null,
   "metadata": {},
   "outputs": [],
   "source": [
    "### download of table dates to use in Tableau ###\n",
    "\n",
    "# from openpyxl import load_workbook\n",
    "\n",
    "# df_pinot_noir.to_excel(r'/content/drive/MyDrive/Checkpoint Exams/Wine_Pinot_Noir_Only.xlsx')#, index = False)"
   ]
  },
  {
   "cell_type": "code",
   "execution_count": null,
   "metadata": {},
   "outputs": [],
   "source": [
    "### first filter used on Tableau\n",
    "\n",
    "# df_pinot_burgundy = df_pinot_noir[(df_pinot_noir['province'] == 'Burgundy') &\n",
    "#                                   (df_pinot_noir['year_final'] >= 2014) &\n",
    "#                                   (df_pinot_noir['year_final'] < 2020)]\n",
    "\n",
    "\n",
    "### second filter used on Tableau and see if makes difference\n",
    "df_pinot_burgundy = df_pinot_noir[(df_pinot_noir['province'] == 'Burgundy') &\n",
    "                                  (df_pinot_noir['year_final'] >= 2014) &\n",
    "                                  (df_pinot_noir['year_final'] < 2020) &\n",
    "                                  (df_pinot_noir['points'] >= 90) &\n",
    "                                  (df_pinot_noir['points'] <= 95)]\n",
    "\n",
    "df_pinot_burgundy"
   ]
  },
  {
   "cell_type": "code",
   "execution_count": null,
   "metadata": {},
   "outputs": [],
   "source": [
    "### download of table dates to use in Tableau ### TABLE WITH PINOT NOIR, BURGUNDY AND DATES BETWEEN 2014 and 2019\n",
    "\n",
    "# from openpyxl import load_workbook\n",
    "\n",
    "# df_pinot_burgundy.to_excel(r'/content/drive/MyDrive/Checkpoint Exams/Wine_Pinot_Burgundy_Final.xlsx')#, index = False)"
   ]
  },
  {
   "cell_type": "markdown",
   "metadata": {},
   "source": [
    "# File Domaine_des_Croix"
   ]
  },
  {
   "cell_type": "code",
   "execution_count": null,
   "metadata": {},
   "outputs": [],
   "source": [
    "import pandas as pd\n",
    "import numpy as np\n",
    "\n",
    "link = \"https://github.com/murpi/wilddata/raw/master/wine.zip\"\n",
    "link_croix = 'https://github.com/murpi/wilddata/raw/master/domaine_des_croix.csv'\n",
    "df_croix = pd.read_csv(link_croix)"
   ]
  },
  {
   "cell_type": "code",
   "execution_count": null,
   "metadata": {},
   "outputs": [],
   "source": [
    "df_croix"
   ]
  },
  {
   "cell_type": "code",
   "execution_count": null,
   "metadata": {},
   "outputs": [],
   "source": [
    "df_croix.info()"
   ]
  },
  {
   "cell_type": "code",
   "execution_count": null,
   "metadata": {},
   "outputs": [],
   "source": [
    "df_croix.describe()"
   ]
  },
  {
   "cell_type": "code",
   "execution_count": null,
   "metadata": {},
   "outputs": [],
   "source": [
    "# apply the def func_clean() to the column 'title'\n",
    "\n",
    "df_croix['title_clean'] = df_croix['title'].apply(func_clean)"
   ]
  },
  {
   "cell_type": "code",
   "execution_count": null,
   "metadata": {},
   "outputs": [],
   "source": [
    "# using regex method to get the year from the title_clean column\n",
    "\n",
    "import re\n",
    "\n",
    "df_croix['year_list'] = df_croix['title_clean'].str.findall(r'\\b[2]+[0]+[0-9]+[0-9]|\\b[1]+[9]+[0-9]+[0-9]')\n",
    "df_croix"
   ]
  },
  {
   "cell_type": "code",
   "execution_count": null,
   "metadata": {},
   "outputs": [],
   "source": [
    "#apply function last(x) to get the max value/date from the list because there some lists with 2 dates on it#\n",
    "\n",
    "# def last(x):\n",
    "#   for number in x:\n",
    "#     return max(x)\n",
    "\n",
    "df_croix['year_final'] = df_croix['year_list'].apply(last)"
   ]
  },
  {
   "cell_type": "code",
   "execution_count": null,
   "metadata": {},
   "outputs": [],
   "source": [
    "# transform values from column year_final from str to int\n",
    "\n",
    "df_croix['year_final'] = pd.to_numeric(df_croix['year_final']) #.convert_dtypes(convert_integer = True)\n",
    "df_croix['year_final'] = df_croix['year_final'].replace(np.nan, 0, regex=True)\n",
    "df_croix['year_final'] = df_croix['year_final'].astype(int)\n",
    "df_croix.info()"
   ]
  },
  {
   "cell_type": "code",
   "execution_count": null,
   "metadata": {},
   "outputs": [],
   "source": [
    "df_croix.describe()"
   ]
  },
  {
   "cell_type": "code",
   "execution_count": null,
   "metadata": {},
   "outputs": [],
   "source": [
    "# get the max, min e total of wines per year\n",
    "\n",
    "print(df_croix.groupby('year_final').agg({'points':'min'}))\n",
    "print(df_croix.groupby('year_final').agg({'points':'max'}),'\\n')\n",
    "df_croix['year_final'].value_counts()"
   ]
  },
  {
   "cell_type": "markdown",
   "metadata": {},
   "source": [
    "##Download Domain des Croix Dataset"
   ]
  },
  {
   "cell_type": "code",
   "execution_count": null,
   "metadata": {},
   "outputs": [],
   "source": [
    "# from openpyxl import load_workbook\n",
    "\n",
    "# df_croix.to_excel(r'/content/drive/MyDrive/Checkpoint Exams/Wine_Domain_Croix.xlsx')#, index = False)"
   ]
  },
  {
   "cell_type": "markdown",
   "metadata": {},
   "source": [
    "# Word Cloud"
   ]
  },
  {
   "cell_type": "markdown",
   "metadata": {},
   "source": [
    "###Creation of mask"
   ]
  },
  {
   "cell_type": "code",
   "execution_count": null,
   "metadata": {},
   "outputs": [],
   "source": [
    "# import library to be able to upload mask with wine shape\n",
    "\n",
    "from PIL import Image\n",
    "\n",
    "wine_mask = np.array(Image.open(\"/content/drive/MyDrive/Checkpoint Exams/wine_mask_xgk1tq.png\"))\n",
    "wine_mask"
   ]
  },
  {
   "cell_type": "code",
   "execution_count": null,
   "metadata": {},
   "outputs": [],
   "source": [
    "# because the image is black (RGB = 0) it needs to be converted in white (RGB = 255)\n",
    "# 0 -> represents the \"intensity\" of the pixel\n",
    "\n",
    "def transform_format(val):\n",
    "    if val == 0:\n",
    "        return 255\n",
    "    else:\n",
    "        return val"
   ]
  },
  {
   "cell_type": "code",
   "execution_count": null,
   "metadata": {},
   "outputs": [],
   "source": [
    "# Transform your mask into a new one that will work with the function:\n",
    "transformed_wine_mask = np.ndarray((wine_mask.shape[0],\n",
    "                                    wine_mask.shape[1]),\n",
    "                                   np.int32)\n",
    "\n",
    "for i in range(len(wine_mask)):\n",
    "    transformed_wine_mask[i] = list(map(transform_format, wine_mask[i]))"
   ]
  },
  {
   "cell_type": "code",
   "execution_count": null,
   "metadata": {},
   "outputs": [],
   "source": [
    "# Confirmation of the transformation of your mask\n",
    "transformed_wine_mask"
   ]
  },
  {
   "cell_type": "markdown",
   "metadata": {},
   "source": [
    "##Word Cloud"
   ]
  },
  {
   "cell_type": "code",
   "execution_count": null,
   "metadata": {},
   "outputs": [],
   "source": [
    "# import libraries\n",
    "\n",
    "from wordcloud import WordCloud\n",
    "import matplotlib.pyplot as plt"
   ]
  },
  {
   "cell_type": "code",
   "execution_count": null,
   "metadata": {},
   "outputs": [],
   "source": [
    "# apply func_clean(x) to tokenize the description\n",
    "\n",
    "df['description_clean'] = df['description'].apply(func_clean)"
   ]
  },
  {
   "cell_type": "code",
   "execution_count": null,
   "metadata": {},
   "outputs": [],
   "source": [
    "# create word cloud image from the description of all US market wine list \n",
    "\n",
    "text = df['description_clean'].values \n",
    "\n",
    "wordcloud = WordCloud(width = 600,\n",
    "                      height = 300,\n",
    "                      min_font_size= 6,\n",
    "                      background_color=\"white\",\n",
    "                      mask = transformed_wine_mask, # wine mask\n",
    "                      contour_width=3, \n",
    "                      contour_color='firebrick').generate(str(text)) #colour and text to be insert in the delimitation\n",
    "\n",
    "plt.imshow(wordcloud)\n",
    "plt.axis(\"off\")\n",
    "plt.show()"
   ]
  },
  {
   "cell_type": "code",
   "execution_count": null,
   "metadata": {},
   "outputs": [],
   "source": [
    "# Save the image in a folder:\n",
    "\n",
    "# wordcloud.to_file(\"/content/drive/MyDrive/Checkpoint Exams/Wine_WordCloud.png\")"
   ]
  },
  {
   "cell_type": "markdown",
   "metadata": {},
   "source": [
    "### dataset Pinot Noir (df_pinot_noir)"
   ]
  },
  {
   "cell_type": "code",
   "execution_count": null,
   "metadata": {},
   "outputs": [],
   "source": [
    "df_pinot_noir['description_clean'] = df_pinot_noir['description'].apply(func_clean)"
   ]
  },
  {
   "cell_type": "code",
   "execution_count": null,
   "metadata": {},
   "outputs": [],
   "source": [
    "# create word cloud image from Pinot Noir wines only from the US market list\n",
    "\n",
    "text = df_pinot_noir['description_clean'].values \n",
    "\n",
    "wordcloud = WordCloud(width = 600,\n",
    "                      height = 300,\n",
    "                      min_font_size= 6,\n",
    "                      background_color=\"white\",\n",
    "                      mask = transformed_wine_mask,\n",
    "                      contour_width=3, \n",
    "                      contour_color='firebrick').generate(str(text))\n",
    "\n",
    "plt.imshow(wordcloud)\n",
    "plt.axis(\"off\")\n",
    "plt.show()"
   ]
  },
  {
   "cell_type": "code",
   "execution_count": null,
   "metadata": {},
   "outputs": [],
   "source": [
    "# # Save the image in the img folder:\n",
    "\n",
    "# wordcloud.to_file(\"/content/drive/MyDrive/Checkpoint Exams/Wine_Pinot_Noir_WordCloud.png\")"
   ]
  },
  {
   "cell_type": "markdown",
   "metadata": {},
   "source": [
    "### dataset Burgundy (df_burgundy)"
   ]
  },
  {
   "cell_type": "code",
   "execution_count": null,
   "metadata": {},
   "outputs": [],
   "source": [
    "df_burgundy['description_clean'] = df_burgundy['description'].apply(func_clean)"
   ]
  },
  {
   "cell_type": "code",
   "execution_count": null,
   "metadata": {},
   "outputs": [],
   "source": [
    "# create word cloud image from Burgundy province wines only from the US market list\n",
    "\n",
    "text = df_burgundy['description_clean'].values \n",
    "\n",
    "wordcloud = WordCloud(width = 600,\n",
    "                      height = 300,\n",
    "                      min_font_size= 6,\n",
    "                      background_color=\"white\",\n",
    "                      mask = transformed_wine_mask,\n",
    "                      contour_width=3, \n",
    "                      contour_color='firebrick').generate(str(text))\n",
    "\n",
    "plt.imshow(wordcloud)\n",
    "plt.axis(\"off\")\n",
    "plt.show()"
   ]
  },
  {
   "cell_type": "code",
   "execution_count": null,
   "metadata": {},
   "outputs": [],
   "source": [
    "# # Save the image in the img folder:\n",
    "\n",
    "# wordcloud.to_file(\"/content/drive/MyDrive/Checkpoint Exams/Wine_Burgundy_WordCloud.png\")"
   ]
  },
  {
   "cell_type": "markdown",
   "metadata": {},
   "source": [
    "### dataset df_croix"
   ]
  },
  {
   "cell_type": "code",
   "execution_count": null,
   "metadata": {},
   "outputs": [],
   "source": [
    "# apply func_clean(x) to tokenize the description\n",
    "\n",
    "df_croix['description_clean'] = df_croix['description'].apply(func_clean)"
   ]
  },
  {
   "cell_type": "code",
   "execution_count": null,
   "metadata": {},
   "outputs": [],
   "source": [
    "# create word cloud image from client's list\n",
    "\n",
    "text = df_croix['description_clean'].values \n",
    "\n",
    "wordcloud = WordCloud(width = 600,\n",
    "                      height = 300,\n",
    "                      min_font_size= 6,\n",
    "                      background_color=\"white\",\n",
    "                      mask = transformed_wine_mask,\n",
    "                      contour_width=3, \n",
    "                      contour_color='firebrick').generate(str(text))\n",
    "\n",
    "plt.imshow(wordcloud)\n",
    "plt.axis(\"off\")\n",
    "plt.show()"
   ]
  },
  {
   "cell_type": "code",
   "execution_count": null,
   "metadata": {},
   "outputs": [],
   "source": [
    "# # Save the image in the img folder:\n",
    "\n",
    "# wordcloud.to_file(\"/content/drive/MyDrive/Checkpoint Exams/Wine_Croix_WordCloud.png\")"
   ]
  }
 ],
 "metadata": {
  "interpreter": {
   "hash": "183bbf6827d058c2a2fb0f4acdc0420849dda2b4380af0e437e38c64d798d8b7"
  },
  "kernelspec": {
   "display_name": "Python 3.8.8 64-bit ('base': conda)",
   "language": "python",
   "name": "python3"
  },
  "language_info": {
   "codemirror_mode": {
    "name": "ipython",
    "version": 3
   },
   "file_extension": ".py",
   "mimetype": "text/x-python",
   "name": "python",
   "nbconvert_exporter": "python",
   "pygments_lexer": "ipython3",
   "version": "3.8.8"
  },
  "orig_nbformat": 4
 },
 "nbformat": 4,
 "nbformat_minor": 2
}
